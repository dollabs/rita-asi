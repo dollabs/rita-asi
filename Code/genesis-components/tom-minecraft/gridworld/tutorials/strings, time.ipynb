{
 "cells": [
  {
   "cell_type": "code",
   "execution_count": 7,
   "metadata": {},
   "outputs": [
    {
     "name": "stdout",
     "output_type": "stream",
     "text": [
      "28\n",
      "2\n",
      "89\n",
      "89\n"
     ]
    }
   ],
   "source": [
    "def colnum_string(n):\n",
    "    string = \"\"\n",
    "    while n > 0:\n",
    "        n, remainder = divmod(n - 1, 26)\n",
    "        string = chr(65 + remainder) + string\n",
    "    return string\n",
    "\n",
    "def col2num(col_str):\n",
    "    \"\"\" Convert base26 column string to number. \"\"\"\n",
    "    expn = 0\n",
    "    col_num = 0\n",
    "    for char in reversed(col_str):\n",
    "        col_num += (ord(char) - ord('A') + 1) * (26 ** expn)\n",
    "        expn += 1\n",
    "\n",
    "    return col_num\n",
    "\n",
    "print(col2num(colnum_string(28)))\n",
    "print(col2num(colnum_string(2)))\n",
    "print(col2num(colnum_string(89)))\n",
    "print(col2num('CK'))"
   ]
  },
  {
   "cell_type": "code",
   "execution_count": 6,
   "metadata": {},
   "outputs": [
    {
     "name": "stdout",
     "output_type": "stream",
     "text": [
      "80 AA\n"
     ]
    }
   ],
   "source": [
    "import re\n",
    "\n",
    "s = '80AA'\n",
    "\n",
    "print(row, col)"
   ]
  },
  {
   "cell_type": "code",
   "execution_count": null,
   "metadata": {},
   "outputs": [],
   "source": []
  }
 ],
 "metadata": {
  "kernelspec": {
   "display_name": "Python 3",
   "language": "python",
   "name": "python3"
  },
  "language_info": {
   "codemirror_mode": {
    "name": "ipython",
    "version": 3
   },
   "file_extension": ".py",
   "mimetype": "text/x-python",
   "name": "python",
   "nbconvert_exporter": "python",
   "pygments_lexer": "ipython3",
   "version": "3.7.7"
  }
 },
 "nbformat": 4,
 "nbformat_minor": 4
}
