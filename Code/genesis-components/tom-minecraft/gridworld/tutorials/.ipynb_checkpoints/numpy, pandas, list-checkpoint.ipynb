{
 "cells": [
  {
   "cell_type": "markdown",
   "metadata": {},
   "source": [
    "# numpy and pandas for data science\n",
    "\n",
    "Both numpy and pandas are core packages for doing data science in Python. And we will use them frequently in our algorithms because they process much faster than python lists. \n",
    "\n",
    "Key difference: Pandas provides powerful objects like DataFrames and Series which are very useful for working with and analyzing data, whereas numpy library provides objects for multi-dimensional arrays. \n",
    "\n",
    "\n",
    "## 1) Creating a 2D/3D array with numpy\n",
    "\n",
    "Here we use demonstrate some simple operations in numpy through the following applications\n",
    "* creating an array\n",
    "* creating a simple MDP and randomly initiate the Q values\n",
    "* calculating the softmax policy and the epsilon greedy policy"
   ]
  },
  {
   "cell_type": "code",
   "execution_count": 13,
   "metadata": {},
   "outputs": [
    {
     "name": "stdout",
     "output_type": "stream",
     "text": [
      "\n",
      " 1D array with all ones: \n",
      " [1. 1. 1. 1. 1. 1. 1. 1. 1. 1.]\n",
      "\n",
      " 2D array with all zeros: \n",
      " [[0. 0. 0. 0.]\n",
      " [0. 0. 0. 0.]\n",
      " [0. 0. 0. 0.]\n",
      " [0. 0. 0. 0.]\n",
      " [0. 0. 0. 0.]\n",
      " [0. 0. 0. 0.]\n",
      " [0. 0. 0. 0.]\n",
      " [0. 0. 0. 0.]\n",
      " [0. 0. 0. 0.]\n",
      " [0. 0. 0. 0.]]\n"
     ]
    }
   ],
   "source": [
    "import numpy as np\n",
    "\n",
    "def show(obj, title): \n",
    "    \"\"\" replacement for print() \"\"\"\n",
    "    if len(str(obj)) <= 20:\n",
    "        print('\\n',title+':',obj)\n",
    "    else:\n",
    "        print('\\n',title+': \\n',obj)\n",
    "\n",
    "show(np.ones(10), '1D array with all ones')\n",
    "show(np.zeros((10, 4)), '2D array with all zeros')"
   ]
  },
  {
   "cell_type": "code",
   "execution_count": 10,
   "metadata": {},
   "outputs": [
    {
     "name": "stdout",
     "output_type": "stream",
     "text": [
      "\n",
      " randomly initialized pi: [0 0 0 0]\n",
      "\n",
      " randomly initialized Q(s,a): \n",
      " [[0 0 0 1]\n",
      " [0 1 0 0]\n",
      " [1 0 0 0]]\n"
     ]
    }
   ],
   "source": [
    "## imagine we have 3 tiles in the maze and four actions\n",
    "\n",
    "n_states = 3 \n",
    "states = list(range(n_states))\n",
    "\n",
    "actions = ['up','down','left','right']\n",
    "n_actions = len(actions)\n",
    "\n",
    "## initialize actions and states\n",
    "pi = np.zeros((n_actions, )).astype(int)\n",
    "Q_sa = np.zeros((n_states, n_actions)).astype(int)\n",
    "\n",
    "## randomly assign value functions\n",
    "for i in range(n_states):\n",
    "    Q_sa[i, np.random.choice(n_actions)] = 1\n",
    "    \n",
    "show(pi, 'randomly initialized pi')\n",
    "show(Q_sa, 'randomly initialized Q(s,a)')"
   ]
  },
  {
   "cell_type": "code",
   "execution_count": 64,
   "metadata": {},
   "outputs": [
    {
     "name": "stdout",
     "output_type": "stream",
     "text": [
      "\n",
      " softmax policy with high temperature 2: \n",
      " [[0.21511292 0.35466124 0.21511292 0.21511292]\n",
      " [0.21511292 0.21511292 0.21511292 0.35466124]\n",
      " [0.21511292 0.35466124 0.21511292 0.21511292]]\n",
      "\n",
      " softmax policy with low temperature 0.0001: \n",
      " [[0. 1. 0. 0.]\n",
      " [0. 0. 0. 1.]\n",
      " [0. 1. 0. 0.]]\n"
     ]
    }
   ],
   "source": [
    "\"\"\" \n",
    "    softmax policy ensures all outputs are all between zero and one \n",
    "    by normalizing the candidates based on their exponential values.\n",
    "    \n",
    "    A higher temperature (tau) produces a softer probability distribution \n",
    "    over the choices, resulting in more exploration.\n",
    "    \n",
    "        softmax(x) = np.exp(x/tau) / sum(np.exp(x/tau))\n",
    "\"\"\"\n",
    "\n",
    "tau = 2\n",
    "pi_exploration = softmax(Q_sa/tau, axis = 1) \n",
    "show(pi_exploration, 'softmax policy with high temperature '+str(tau))\n",
    "\n",
    "tau = 0.0001\n",
    "pi_exploitation = softmax(Q_sa/tau, axis = 1) \n",
    "show(pi_exploitation, 'softmax policy with low temperature '+str(tau))"
   ]
  },
  {
   "cell_type": "code",
   "execution_count": 65,
   "metadata": {},
   "outputs": [
    {
     "name": "stdout",
     "output_type": "stream",
     "text": [
      "\n",
      " action chosen using greedy policy: down\n",
      "\n",
      " action chosen using 0.3-greedy policy: down\n"
     ]
    }
   ],
   "source": [
    "\"\"\"\n",
    "    greedy policy: \n",
    "        choose the action that maximize the value function\n",
    "\"\"\"\n",
    "\n",
    "current_state = 0\n",
    "a = actions[np.argmax(Q_sa[current_state, :])]\n",
    "show(a,'action chosen using greedy policy')\n",
    "\n",
    "\"\"\"\n",
    "    epsilon-greedy policy: \n",
    "        with probability epsilon, choose actions randomly \n",
    "        otherwise, choose according to policy\n",
    "\"\"\"\n",
    "\n",
    "pi = pi_exploitation\n",
    "epsilon = 0.3\n",
    "if np.random.rand() <= epsilon:\n",
    "    a = actions[np.random.choice(n_actions)]\n",
    "else:\n",
    "    prob = pi[current_state, :]\n",
    "    index = np.random.choice(n_actions, p=prob)\n",
    "    # index = np.argmax(prob)  ## use non-softmax policy\n",
    "    a = actions[index]\n",
    "    \n",
    "show(a,'action chosen using '+str(epsilon)+'-greedy policy')"
   ]
  },
  {
   "cell_type": "markdown",
   "metadata": {},
   "source": [
    "## 2) Creating a 2D array with pandas\n",
    "\n",
    "In gridworld, we often use pandas for printing the table of expected reward or table of policies on the Turtle interface. "
   ]
  },
  {
   "cell_type": "code",
   "execution_count": 28,
   "metadata": {},
   "outputs": [
    {
     "name": "stdout",
     "output_type": "stream",
     "text": [
      "   0  1  2  3\n",
      "0  x  x  x  x\n",
      "1  x  x  x  x\n",
      "\n",
      " shape of the dataframe: (2, 4)\n"
     ]
    }
   ],
   "source": [
    "import pandas as pd\n",
    "\n",
    "width = 4\n",
    "height = 2\n",
    "\n",
    "df = pd.DataFrame(\"x\", index=range(height), columns=range(width))\n",
    "print(df)\n",
    "show(df.shape,'shape of the dataframe')"
   ]
  },
  {
   "cell_type": "code",
   "execution_count": 32,
   "metadata": {},
   "outputs": [
    {
     "name": "stdout",
     "output_type": "stream",
     "text": [
      "   0  1  2  3\n",
      "0  x  /  x  x\n",
      "1  x  x  x  x\n",
      "\n",
      " / x \n",
      "\n",
      "   0  1  2  3\n",
      "0  x  /  x  x\n",
      "1  -  x  x  x\n"
     ]
    }
   ],
   "source": [
    "## note that there are two ways of modifying a cell value\n",
    "df = pd.DataFrame(\"x\", index=range(height), columns=range(width))\n",
    "df.loc[(0, 1)] = \"/\"\n",
    "print(df)\n",
    "\n",
    "print('\\n', df.loc[(0, 1)], df[0][1],'\\n')\n",
    "\n",
    "df[0][1] = \"-\"\n",
    "print(df)"
   ]
  },
  {
   "cell_type": "code",
   "execution_count": 3,
   "metadata": {},
   "outputs": [
    {
     "data": {
      "text/html": [
       "<div>\n",
       "<style scoped>\n",
       "    .dataframe tbody tr th:only-of-type {\n",
       "        vertical-align: middle;\n",
       "    }\n",
       "\n",
       "    .dataframe tbody tr th {\n",
       "        vertical-align: top;\n",
       "    }\n",
       "\n",
       "    .dataframe thead th {\n",
       "        text-align: right;\n",
       "    }\n",
       "</style>\n",
       "<table border=\"1\" class=\"dataframe\">\n",
       "  <thead>\n",
       "    <tr style=\"text-align: right;\">\n",
       "      <th></th>\n",
       "      <th>player</th>\n",
       "      <th>Q(s,a)</th>\n",
       "      <th>Q(s)</th>\n",
       "      <th>Pi(s)</th>\n",
       "    </tr>\n",
       "  </thead>\n",
       "  <tbody>\n",
       "    <tr>\n",
       "      <th>0</th>\n",
       "      <td>hellp</td>\n",
       "      <td>0.20</td>\n",
       "      <td>0.4000</td>\n",
       "      <td>[0, 3, 4]</td>\n",
       "    </tr>\n",
       "    <tr>\n",
       "      <th>1</th>\n",
       "      <td>he2illfllp</td>\n",
       "      <td>0.28</td>\n",
       "      <td>0.2224</td>\n",
       "      <td>[0, 3000, 4]</td>\n",
       "    </tr>\n",
       "  </tbody>\n",
       "</table>\n",
       "</div>"
      ],
      "text/plain": [
       "       player  Q(s,a)    Q(s)         Pi(s)\n",
       "0       hellp    0.20  0.4000     [0, 3, 4]\n",
       "1  he2illfllp    0.28  0.2224  [0, 3000, 4]"
      ]
     },
     "execution_count": 3,
     "metadata": {},
     "output_type": "execute_result"
    }
   ],
   "source": [
    "import pandas as pd\n",
    "df2 = pd.DataFrame(columns=['player', 'Q(s,a)', 'Q(s)', 'Pi(s)'])\n",
    "df2\n",
    "df2.loc[1] = ['he2illfllp', 0.28, 0.2224, [0, 3000, 4]]\n",
    "df2"
   ]
  },
  {
   "cell_type": "markdown",
   "metadata": {},
   "source": [
    "## 3) Creating a 2D array with python list"
   ]
  },
  {
   "cell_type": "code",
   "execution_count": 27,
   "metadata": {},
   "outputs": [
    {
     "data": {
      "text/plain": [
       "[(-1, -2), (-1, -1), (-1, 0), (-1, 1), (0, -2), (0, -1), (0, 0), (0, 1)]"
      ]
     },
     "execution_count": 27,
     "metadata": {},
     "output_type": "execute_result"
    }
   ],
   "source": [
    "combination = [ (i,j) \n",
    "    for i in range(-1,1) \n",
    "    for j in range(-2,2)]\n",
    "combination"
   ]
  },
  {
   "cell_type": "code",
   "execution_count": 1,
   "metadata": {},
   "outputs": [
    {
     "name": "stdout",
     "output_type": "stream",
     "text": [
      "2\n",
      "3\n"
     ]
    }
   ],
   "source": [
    "tiles = [12,13,14,15]\n",
    "states = [0,1,2,3]\n",
    "\n",
    "state = 2\n",
    "tile = states[state]\n",
    "print(tile)\n",
    "\n",
    "tile = 15\n",
    "state = tiles.index(tile)\n",
    "print(state)"
   ]
  },
  {
   "cell_type": "code",
   "execution_count": 32,
   "metadata": {},
   "outputs": [
    {
     "name": "stdout",
     "output_type": "stream",
     "text": [
      "[0.62169075 0.63683161 0.65193364 0.66697681 0.68194075 0.69680478\n",
      " 0.71154793 0.72614904 0.74058675 0.7548396  0.76888605 0.78270454\n",
      " 0.79627355 0.80957165 0.82257756 0.83527021 0.84762878 0.85963276\n",
      " 0.87126204 0.8824969  0.89331814 0.90370708 0.91364563 0.92311635\n",
      " 0.93210249 0.94058806 0.94855785 0.95599748 0.96289347 0.96923323\n",
      " 0.97500518 0.98019867 0.98480414 0.98881304 0.99221794 0.99501248\n",
      " 0.99719145 0.99875078 0.99968755 1.        ]\n"
     ]
    }
   ],
   "source": [
    "## create 1D Gaussian filter\n",
    "\n",
    "from math import pi, sqrt, exp\n",
    "\n",
    "def gauss(n=20):\n",
    "    \"\"\" half of gaussian filter as the window \"\"\"\n",
    "    sigma = n\n",
    "    r = range(-int(n), int(n) + 1)\n",
    "    g = [1 / (sigma * sqrt(2 * pi)) * exp(-float(x) ** 2 / (2 * sigma ** 2)) for x in r][1:n + 1]\n",
    "    return np.asarray([m/g[-1] for m in g])\n",
    "\n",
    "g = gauss(40)\n",
    "print(g)"
   ]
  },
  {
   "cell_type": "code",
   "execution_count": null,
   "metadata": {},
   "outputs": [],
   "source": []
  }
 ],
 "metadata": {
  "kernelspec": {
   "display_name": "Python 3",
   "language": "python",
   "name": "python3"
  },
  "language_info": {
   "codemirror_mode": {
    "name": "ipython",
    "version": 3
   },
   "file_extension": ".py",
   "mimetype": "text/x-python",
   "name": "python",
   "nbconvert_exporter": "python",
   "pygments_lexer": "ipython3",
   "version": "3.7.7"
  }
 },
 "nbformat": 4,
 "nbformat_minor": 4
}
