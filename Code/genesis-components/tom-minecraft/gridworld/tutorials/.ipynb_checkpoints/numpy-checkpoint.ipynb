{
 "cells": [
  {
   "cell_type": "code",
   "execution_count": 44,
   "metadata": {},
   "outputs": [
    {
     "name": "stdout",
     "output_type": "stream",
     "text": [
      "\n",
      " randomly initialized pi: [0 0 0 0]\n",
      "\n",
      " randomly initialized Q(s,a): \n",
      " [[1 0 0 0]\n",
      " [0 1 0 0]\n",
      " [0 1 0 0]]\n"
     ]
    }
   ],
   "source": [
    "import numpy as np\n",
    "from scipy.special import softmax\n",
    "\n",
    "def show(obj, title): \n",
    "    if len(str(obj)) <= 20:\n",
    "        print('\\n',title+':',obj)\n",
    "    else:\n",
    "        print('\\n',title+': \\n',obj)\n",
    "\n",
    "n_states = 3 ## imagine we have 3 tiles in the maze\n",
    "states = list(range(n_states))\n",
    "actions = ['up','down','left','right']\n",
    "n_actions = len(actions)\n",
    "\n",
    "\"\"\" \n",
    "    initialize actions and states\n",
    "\"\"\" \n",
    "pi = np.zeros((n_actions, )).astype(int)\n",
    "Q_sa = np.zeros((n_states, n_actions)).astype(int)\n",
    "\n",
    "## randomly assign value functions\n",
    "for i in range(n_states):\n",
    "    Q_sa[i, np.random.choice(n_actions)] = 1\n",
    "    \n",
    "show(pi, 'randomly initialized pi')\n",
    "show(Q_sa, 'randomly initialized Q(s,a)')"
   ]
  },
  {
   "cell_type": "code",
   "execution_count": 45,
   "metadata": {},
   "outputs": [
    {
     "name": "stdout",
     "output_type": "stream",
     "text": [
      "\n",
      " softmax policy with high temperature 2: \n",
      " [[0.35466124 0.21511292 0.21511292 0.21511292]\n",
      " [0.21511292 0.35466124 0.21511292 0.21511292]\n",
      " [0.21511292 0.35466124 0.21511292 0.21511292]]\n",
      "\n",
      " softmax policy with low temperature 0.0001: \n",
      " [[1. 0. 0. 0.]\n",
      " [0. 1. 0. 0.]\n",
      " [0. 1. 0. 0.]]\n"
     ]
    }
   ],
   "source": [
    "\"\"\" \n",
    "    softmax policy ensures all outputs are all between zero and one \n",
    "    by normalizing the candidates based on their exponential values.\n",
    "    \n",
    "    A higher temperature (tau) produces a softer probability distribution \n",
    "    over the choices, resulting in more exploration.\n",
    "    \n",
    "        softmax(x) = np.exp(x/tau) / sum(np.exp(x/tau))\n",
    "\"\"\"\n",
    "\n",
    "tau = 2\n",
    "pi_exploration = softmax(Q_sa/tau, axis = 1) \n",
    "show(pi_exploration, 'softmax policy with high temperature '+str(tau))\n",
    "\n",
    "tau = 0.0001\n",
    "pi_exploitation = softmax(Q_sa/tau, axis = 1) \n",
    "show(pi_exploitation, 'softmax policy with low temperature '+str(tau))"
   ]
  },
  {
   "cell_type": "code",
   "execution_count": 46,
   "metadata": {},
   "outputs": [
    {
     "name": "stdout",
     "output_type": "stream",
     "text": [
      "\n",
      " action chosen using 0.3-greedy policy: left\n"
     ]
    }
   ],
   "source": [
    "\"\"\"\n",
    "    greedy policy: \n",
    "        choose the action that maximize the value function\n",
    "        \n",
    "    epsilon-greedy policy: \n",
    "        with probability epsilon, choose actions randomly \n",
    "        otherwise, choose according to policy\n",
    "\"\"\"\n",
    "pi = pi_exploitation\n",
    "current_state = 0\n",
    "epsilon = 0.3\n",
    "if np.random.rand() <= epsilon:\n",
    "    a = actions[np.random.choice(n_actions)]\n",
    "else:\n",
    "    prob = pi[current_state, :]\n",
    "    index = np.random.choice(n_actions, p=prob)\n",
    "    # index = np.argmax(prob)  ## use non-softmax policy\n",
    "    a = actions[index]\n",
    "    \n",
    "show(a,'action chosen using '+str(epsilon)+'-greedy policy')"
   ]
  },
  {
   "cell_type": "code",
   "execution_count": 49,
   "metadata": {},
   "outputs": [
    {
     "data": {
      "text/plain": [
       "1"
      ]
     },
     "execution_count": 49,
     "metadata": {},
     "output_type": "execute_result"
    }
   ],
   "source": [
    "\"\"\"\n",
    "    \n",
    "\"\"\"\n",
    "a = actions[np.max(Q_sa[current_state, :])]\n",
    "show(a,'action chosen using greedy policy')"
   ]
  },
  {
   "cell_type": "code",
   "execution_count": null,
   "metadata": {},
   "outputs": [],
   "source": []
  },
  {
   "cell_type": "code",
   "execution_count": null,
   "metadata": {},
   "outputs": [],
   "source": []
  }
 ],
 "metadata": {
  "kernelspec": {
   "display_name": "Python 3",
   "language": "python",
   "name": "python3"
  },
  "language_info": {
   "codemirror_mode": {
    "name": "ipython",
    "version": 3
   },
   "file_extension": ".py",
   "mimetype": "text/x-python",
   "name": "python",
   "nbconvert_exporter": "python",
   "pygments_lexer": "ipython3",
   "version": "3.7.7"
  }
 },
 "nbformat": 4,
 "nbformat_minor": 4
}
