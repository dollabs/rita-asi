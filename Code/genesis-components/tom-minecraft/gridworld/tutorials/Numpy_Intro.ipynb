{
 "cells": [
  {
   "cell_type": "code",
   "execution_count": 1,
   "metadata": {},
   "outputs": [],
   "source": [
    "import numpy as np\n",
    "import time\n",
    "import os"
   ]
  },
  {
   "cell_type": "markdown",
   "metadata": {},
   "source": [
    "## Lists"
   ]
  },
  {
   "cell_type": "markdown",
   "metadata": {},
   "source": [
    "A list is similar to an array in MATLAB.  A list can stores items with different data types.  You should know the following list operations:\n",
    "\n",
    "1.  Indexing into a list\n",
    "2.  Inserting into a list\n",
    "3.  List comprehension\n",
    "4.  Slicing"
   ]
  },
  {
   "cell_type": "code",
   "execution_count": 16,
   "metadata": {},
   "outputs": [
    {
     "name": "stdout",
     "output_type": "stream",
     "text": [
      "The element at position 3 is: 3\n",
      "The last element is: 4\n",
      "[1, 2, 3, 4, 3]\n",
      "[1, 2, 3, 4, 3, 'oh', 'my', 'god']\n"
     ]
    }
   ],
   "source": [
    "# Create a list of integers\n",
    "x = [1, 2, 3, 4]\n",
    "\n",
    "# Index into the list\n",
    "print(\"The element at position 3 is: {}\".format(x[2]))\n",
    "\n",
    "# Or from the end\n",
    "print(\"The last element is: {}\".format(x[-1]))\n",
    "\n",
    "# Append to the list\n",
    "x.append(3) # using the inplace append function\n",
    "print(x)\n",
    "print(x + ['oh', 'my', 'god']) # or by performing list addition"
   ]
  },
  {
   "cell_type": "code",
   "execution_count": 33,
   "metadata": {},
   "outputs": [
    {
     "name": "stdout",
     "output_type": "stream",
     "text": [
      "a = [1, 2, 3, 4, 5]\n",
      "b = [3, 5, 6, 7, 3]\n",
      "a + b = [1, 2, 3, 4, 5, 3, 5, 6, 7, 3]\n"
     ]
    }
   ],
   "source": [
    "# Create a list of consecutive integers\n",
    "a = [1, 2, 3, 4, 5]\n",
    "\n",
    "# or use range(start=0, stop, step = 1)\n",
    "a = list(range(1, 6))\n",
    "\n",
    "# Now create another list of the same length\n",
    "b = [3, 5, 6, 7, 3]\n",
    "\n",
    "# Add the corresponding elements in each list\n",
    "# Option 1: The wrong way\n",
    "sum = a + b\n",
    "\n",
    "print(\"a = {}\".format(a))\n",
    "print(\"b = {}\".format(b))\n",
    "print(\"a + b = {}\".format(sum))"
   ]
  },
  {
   "cell_type": "code",
   "execution_count": 23,
   "metadata": {},
   "outputs": [
    {
     "name": "stdout",
     "output_type": "stream",
     "text": [
      "a = [1, 2, 3, 4, 5]\n",
      "b = [3, 5, 6, 7, 3]\n",
      "a + b = [4, 7, 9, 11, 8]\n"
     ]
    }
   ],
   "source": [
    "# Option 2:  The lengthy way\n",
    "\n",
    "# Create a function that sums two lists\n",
    "def sum(a, b):\n",
    "    # Use an assertion statement to enforce constraints on inputs\n",
    "    assert(len(a) == len(b)), \"Lengths don't match!\"\n",
    "    s = []\n",
    "    for i in range(len(a)):\n",
    "        s.append(a[i] + b[i])\n",
    "    return s\n",
    "\n",
    "print(\"a = {}\".format(a))\n",
    "print(\"b = {}\".format(b))\n",
    "print(\"a + b = {}\".format(sum(a, b)))\n",
    "\n",
    "# Now let's change a to [1, 2, 3, 4, 5, 6]\n",
    "# a = list(range(1, 6))\n",
    "# print(\"a = {}\".format(a))\n",
    "# print(\"b = {}\".format(b))\n",
    "# print(\"a + b = {}\".format(sum(a, b)))"
   ]
  },
  {
   "cell_type": "code",
   "execution_count": 31,
   "metadata": {},
   "outputs": [
    {
     "name": "stdout",
     "output_type": "stream",
     "text": [
      "a + b = [4, 7, 9, 11, 8]\n"
     ]
    }
   ],
   "source": [
    "# Option 3: The slightly cooler way\n",
    "\n",
    "# Use list comprehension\n",
    "\n",
    "a = [i for i in range(1, 6)]\n",
    "b = [3, 5, 6, 7, 3]\n",
    "\n",
    "# Use the zip function to zip together many objects\n",
    "sum = [i + j for i, j in zip(a, b)]\n",
    "print(\"a + b = {}\".format(sum))"
   ]
  },
  {
   "cell_type": "markdown",
   "metadata": {},
   "source": [
    "**Exercise:** Square elements of an integer list using list comprehension"
   ]
  },
  {
   "cell_type": "markdown",
   "metadata": {},
   "source": [
    "**Exercise:** Given a list of even and odd natural numbers, create a list replacing all even numbers with 'even' and all odd numbers with 'odd'"
   ]
  },
  {
   "cell_type": "code",
   "execution_count": 35,
   "metadata": {},
   "outputs": [
    {
     "ename": "TypeError",
     "evalue": "'tuple' object does not support item assignment",
     "output_type": "error",
     "traceback": [
      "\u001b[1;31m---------------------------------------------------------------------------\u001b[0m",
      "\u001b[1;31mTypeError\u001b[0m                                 Traceback (most recent call last)",
      "\u001b[1;32m<ipython-input-35-38e812492ee4>\u001b[0m in \u001b[0;36m<module>\u001b[1;34m\u001b[0m\n\u001b[0;32m      2\u001b[0m \u001b[0mx\u001b[0m\u001b[1;33m[\u001b[0m\u001b[1;36m1\u001b[0m\u001b[1;33m]\u001b[0m \u001b[1;33m=\u001b[0m \u001b[1;36m4\u001b[0m\u001b[1;33m\u001b[0m\u001b[1;33m\u001b[0m\u001b[0m\n\u001b[0;32m      3\u001b[0m \u001b[0mx\u001b[0m \u001b[1;33m=\u001b[0m \u001b[1;33m(\u001b[0m\u001b[1;36m1\u001b[0m\u001b[1;33m,\u001b[0m \u001b[1;36m2\u001b[0m\u001b[1;33m,\u001b[0m \u001b[1;36m3\u001b[0m\u001b[1;33m)\u001b[0m\u001b[1;33m\u001b[0m\u001b[1;33m\u001b[0m\u001b[0m\n\u001b[1;32m----> 4\u001b[1;33m \u001b[0mx\u001b[0m\u001b[1;33m[\u001b[0m\u001b[1;36m1\u001b[0m\u001b[1;33m]\u001b[0m \u001b[1;33m=\u001b[0m \u001b[1;36m4\u001b[0m\u001b[1;33m\u001b[0m\u001b[1;33m\u001b[0m\u001b[0m\n\u001b[0m\u001b[0;32m      5\u001b[0m \u001b[1;33m\u001b[0m\u001b[0m\n\u001b[0;32m      6\u001b[0m \u001b[0mprint\u001b[0m\u001b[1;33m(\u001b[0m\u001b[0mx\u001b[0m\u001b[1;33m)\u001b[0m\u001b[1;33m\u001b[0m\u001b[1;33m\u001b[0m\u001b[0m\n",
      "\u001b[1;31mTypeError\u001b[0m: 'tuple' object does not support item assignment"
     ]
    }
   ],
   "source": [
    "x = [1, 2, 3]\n",
    "x[1] = 4\n",
    "\n",
    "# Use tuples when you want to secure your data\n",
    "x = (1, 2, 3)\n",
    "x[1] = 4\n",
    "\n",
    "print(x)"
   ]
  },
  {
   "cell_type": "code",
   "execution_count": 48,
   "metadata": {},
   "outputs": [
    {
     "name": "stdout",
     "output_type": "stream",
     "text": [
      "[6, 2, 4, 6]\n",
      "[6, 4, 3]\n"
     ]
    }
   ],
   "source": [
    "# Slicing a list to obtain first 4 elements\n",
    "x = [6, 2, 4, 6, 6, 4, 3, 7]\n",
    "print(x[:4])\n",
    "# Slice to obtain elements 5 to 7\n",
    "print(x[4:-1])"
   ]
  },
  {
   "cell_type": "markdown",
   "metadata": {},
   "source": [
    "## Numpy"
   ]
  },
  {
   "cell_type": "markdown",
   "metadata": {},
   "source": [
    "Numpy is a scientific computing library in Python that offers a multitude of methods that manipulate multidimensional arrays.  The methods are very similar to those available in MATLAB."
   ]
  },
  {
   "cell_type": "markdown",
   "metadata": {},
   "source": [
    "\"If you master linear algebra and probability then you are set for life\" - Greg Wornell"
   ]
  },
  {
   "cell_type": "markdown",
   "metadata": {},
   "source": [
    "My recommendation is to always use numpy arrays instead of lists.  Great improvement in speed."
   ]
  },
  {
   "cell_type": "code",
   "execution_count": 49,
   "metadata": {},
   "outputs": [
    {
     "name": "stdout",
     "output_type": "stream",
     "text": [
      "[[1, 0, 0], [0, 1, 0], [0, 0, 1]]\n",
      "1\n",
      "\n",
      "Using Numpy\n",
      "\n",
      "[[1. 0. 0.]\n",
      " [0. 1. 0.]\n",
      " [0. 0. 1.]]\n",
      "1.0\n"
     ]
    }
   ],
   "source": [
    "# This is a list of lists or a matrix\n",
    "x = [[1, 0, 0], [0, 1, 0], [0, 0, 1]]\n",
    "print(x)\n",
    "print(x[2][2])\n",
    "\n",
    "print(\"\\nUsing Numpy\\n\")\n",
    "# This can be created in numpy in one line\n",
    "x = np.eye(3)\n",
    "print(x)\n",
    "print(x[2, 2])"
   ]
  },
  {
   "cell_type": "code",
   "execution_count": 42,
   "metadata": {},
   "outputs": [
    {
     "name": "stdout",
     "output_type": "stream",
     "text": [
      "[[0. 0. 0.]\n",
      " [0. 0. 0.]\n",
      " [0. 0. 0.]]\n",
      "[[1. 1. 1. 1.]\n",
      " [1. 1. 1. 1.]\n",
      " [1. 1. 1. 1.]]\n",
      "[[0.22917935 0.73760941 0.50622467]\n",
      " [0.53396193 0.2129907  0.41130008]\n",
      " [0.39449403 0.74430247 0.28396855]]\n"
     ]
    }
   ],
   "source": [
    "# Other useful methods\n",
    "a = np.zeros((3, 3))\n",
    "print(a)\n",
    "\n",
    "b = np.ones((3, 4))\n",
    "print(b)\n",
    "\n",
    "c = np.random.random((3, 3))\n",
    "print(c)"
   ]
  },
  {
   "cell_type": "code",
   "execution_count": 51,
   "metadata": {},
   "outputs": [
    {
     "name": "stdout",
     "output_type": "stream",
     "text": [
      "[[  1.4   2.    6. ]\n",
      " [  4.    5.  100.3]\n",
      " [ -2.    3.   -5.5]]\n",
      "The shape of the array is (3, 3)\n",
      "[ 1.4  4.  -2. ]\n",
      "[[ 1.4]\n",
      " [ 4. ]\n",
      " [-2. ]]\n",
      "[[  2.    6. ]\n",
      " [  5.  100.3]]\n"
     ]
    }
   ],
   "source": [
    "# Create an array\n",
    "a = np.array([[1.4, 2., 6], [4, 5, 100.3], [-2, 3, -5.5]])\n",
    "print(a)\n",
    "\n",
    "# Print shape of a\n",
    "print(\"The shape of the array is {}\".format(a.shape))\n",
    "\n",
    "# Let's slice it up and print the first column\n",
    "print(a[:, 0])\n",
    "\n",
    "# Reshape the above slice into a column vector\n",
    "print(a[:, 0].reshape(-1, 1))\n",
    "\n",
    "# Pull out subarray containing first two rows and last two columns\n",
    "print(a[:2, 1:])"
   ]
  },
  {
   "cell_type": "code",
   "execution_count": 54,
   "metadata": {},
   "outputs": [
    {
     "name": "stdout",
     "output_type": "stream",
     "text": [
      "[0.   0.01 0.02 0.03 0.04 0.05 0.06 0.07 0.08 0.09 0.1  0.11 0.12 0.13\n",
      " 0.14 0.15 0.16 0.17 0.18 0.19 0.2  0.21 0.22 0.23 0.24 0.25 0.26 0.27\n",
      " 0.28 0.29 0.3  0.31 0.32 0.33 0.34 0.35 0.36 0.37 0.38 0.39 0.4  0.41\n",
      " 0.42 0.43 0.44 0.45 0.46 0.47 0.48 0.49 0.5  0.51 0.52 0.53 0.54 0.55\n",
      " 0.56 0.57 0.58 0.59 0.6  0.61 0.62 0.63 0.64 0.65 0.66 0.67 0.68 0.69\n",
      " 0.7  0.71 0.72 0.73 0.74 0.75 0.76 0.77 0.78 0.79 0.8  0.81 0.82 0.83\n",
      " 0.84 0.85 0.86 0.87 0.88 0.89 0.9  0.91 0.92 0.93 0.94 0.95 0.96 0.97\n",
      " 0.98 0.99]\n",
      "[0.   0.01 0.02 0.03 0.04 0.05 0.06 0.07 0.08 0.09 0.1  0.11 0.12 0.13\n",
      " 0.14 0.15 0.16 0.17 0.18 0.19 0.2  0.21 0.22 0.23 0.24 0.25 0.26 0.27\n",
      " 0.28 0.29 0.3  0.31 0.32 0.33 0.34 0.35 0.36 0.37 0.38 0.39 0.4  0.41\n",
      " 0.42 0.43 0.44 0.45 0.46 0.47 0.48 0.49 0.5  0.51 0.52 0.53 0.54 0.55\n",
      " 0.56 0.57 0.58 0.59 0.6  0.61 0.62 0.63 0.64 0.65 0.66 0.67 0.68 0.69\n",
      " 0.7  0.71 0.72 0.73 0.74 0.75 0.76 0.77 0.78 0.79 0.8  0.81 0.82 0.83\n",
      " 0.84 0.85 0.86 0.87 0.88 0.89 0.9  0.91 0.92 0.93 0.94 0.95 0.96 0.97\n",
      " 0.98 0.99 1.  ]\n"
     ]
    }
   ],
   "source": [
    "# Create an array with uniformly spaced elements between 0 and 1\n",
    "x = np.arange(0, 1, 0.01)\n",
    "print(x)\n",
    "y = np.linspace(0, 1, 101)\n",
    "print(y)"
   ]
  },
  {
   "cell_type": "code",
   "execution_count": 57,
   "metadata": {},
   "outputs": [
    {
     "name": "stdout",
     "output_type": "stream",
     "text": [
      "x = [[0.57611218 0.12404367 0.6694266 ]\n",
      " [0.22948147 0.15221884 0.90956653]]\n",
      "y = [[0.87481318 0.55312563 0.13230495]\n",
      " [0.38215113 0.79769897 0.08044353]]\n",
      "x + y = [[1.45092536 0.6771693  0.80173156]\n",
      " [0.6116326  0.94991781 0.99001006]]\n",
      "x - y = [[-0.298701   -0.42908196  0.53712165]\n",
      " [-0.15266965 -0.64548013  0.829123  ]]\n",
      "x*y = [[0.50399053 0.06861173 0.08856846]\n",
      " [0.0876966  0.12142481 0.07316874]]\n",
      "x^2 = [[0.33190524 0.01538683 0.44813198]\n",
      " [0.05266175 0.02317058 0.82731127]]\n",
      "x/y = [[ 0.65855453  0.22425949  5.05972441]\n",
      " [ 0.60049927  0.19082241 11.30689486]]\n"
     ]
    }
   ],
   "source": [
    "# Create two numpy arrays \n",
    "x = np.random.random((2, 3))\n",
    "y = np.random.random((2, 3))\n",
    "\n",
    "print(\"x = {}\".format(x))\n",
    "print(\"y = {}\".format(y))\n",
    "\n",
    "# Let's add these two arrays\n",
    "add = x + y\n",
    "print(\"x + y = {}\".format(add))\n",
    "\n",
    "# Let's subtract x - y\n",
    "print(\"x - y = {}\".format(x - y))\n",
    "\n",
    "# Elementwise multiplication\n",
    "print(\"x*y = {}\".format(x*y))\n",
    "\n",
    "# Square all elements of x\n",
    "print(\"x^2 = {}\".format(x**2))\n",
    "\n",
    "# Elementwise division\n",
    "print(\"x/y = {}\".format(x/y))"
   ]
  },
  {
   "cell_type": "code",
   "execution_count": 60,
   "metadata": {},
   "outputs": [
    {
     "name": "stdout",
     "output_type": "stream",
     "text": [
      "z = [[0.10133764 0.49489058]\n",
      " [0.56414367 0.66513964]\n",
      " [0.48771982 0.6191673 ]]\n",
      "yxz = [[0.46522158 0.88276149]\n",
      " [0.52797702 0.7695122 ]]\n",
      "yxz = [[0.46522158 0.88276149]\n",
      " [0.52797702 0.7695122 ]]\n"
     ]
    }
   ],
   "source": [
    "# Matrix multiplication \n",
    "z = np.random.random((3, 2))\n",
    "print(\"z = {}\".format(z))\n",
    "\n",
    "# Perform y x z\n",
    "print(\"yxz = {}\".format(y@z))\n",
    "\n",
    "# Could also use np.dot, but don't recommend if using Python 3\n",
    "print(\"yxz = {}\".format(np.dot(y, z)))"
   ]
  },
  {
   "cell_type": "code",
   "execution_count": 62,
   "metadata": {},
   "outputs": [
    {
     "name": "stdout",
     "output_type": "stream",
     "text": [
      "x = [[0.57611218 0.12404367 0.6694266 ]\n",
      " [0.22948147 0.15221884 0.90956653]]\n",
      "x + 6.246 = [[6.82211218 6.37004367 6.9154266 ]\n",
      " [6.47548147 6.39821884 7.15556653]]\n",
      "x + [1, 0, 0] = [[1.57611218 0.12404367 0.6694266 ]\n",
      " [1.22948147 0.15221884 0.90956653]]\n"
     ]
    }
   ],
   "source": [
    "# Numpy performs broadcasting\n",
    "\n",
    "# Add a scalar value of 6.246 to every element in x\n",
    "print(\"x = {}\".format(x))\n",
    "print(\"x + 6.246 = {}\".format(x + 6.246))\n",
    "\n",
    "# Add the row vector [1, 0, 0] to the rows of x\n",
    "print(\"x + [1, 0, 0] = {}\".format(x + np.array([1, 0, 0])))"
   ]
  },
  {
   "cell_type": "markdown",
   "metadata": {},
   "source": [
    "**Exercise**:  Add the column vector [1, 0] to columns of x"
   ]
  },
  {
   "cell_type": "markdown",
   "metadata": {},
   "source": [
    "Great! We've got some list and numpy basics out of the way.  Now let's put use these to perform some very simple operations that often arise in machine learning and reinforcement learning."
   ]
  },
  {
   "cell_type": "markdown",
   "metadata": {},
   "source": [
    "## Softmax Operations"
   ]
  },
  {
   "cell_type": "markdown",
   "metadata": {},
   "source": [
    "Consider a setting where your task is to navigate an environment by opening doors.  Each door ir represented by a triplet (a, b, c) which encodes some property of the doors.  Assume that such an encoding is learned by some deep neural network.<br>\n",
    "\n",
    "We know that each door provides a reward after opening it.  The reward obtained by opening some door with encoding (a, b, c) is 0.77a - 0.2b + 0.43c.  Everytime you enter a new room you have four possible doors you can choose to venture through next.<br>\n",
    "\n",
    "Assume that you have collected rewards and are currently at room X.  You see four rooms with encodings (0, 0, 1), (0, 1, 0), (1, 0, 1), (2, 1, 0.5).  You make your decision to travel to the next room by considering the total reward you would have after moving to that room."
   ]
  },
  {
   "cell_type": "markdown",
   "metadata": {},
   "source": [
    "Let your current reward be 0.1.  Now let's find the rewards we would obtain by navigating to each room.  This can be found my matrix multiplication.  Let the matrix of room encodings be:\n",
    "\n",
    "$$\n",
    "B = \\begin{bmatrix}\n",
    "0 & 0 & 1 & 2\\\\\n",
    "0 & 1 & 0 & 1\\\\\n",
    "1 & 0 & 1 & 0.5\\\\\n",
    "\\end{bmatrix}.\n",
    "$$\n",
    "\n",
    "Let the key be\n",
    "\n",
    "$$\n",
    "K = \\begin{bmatrix}\n",
    "0.77 & -0.20 & 0.43\n",
    "\\end{bmatrix}.\n",
    "$$\n",
    "\n",
    "Then the reward can be calculated as $R = KB$."
   ]
  },
  {
   "cell_type": "code",
   "execution_count": 63,
   "metadata": {},
   "outputs": [
    {
     "name": "stdout",
     "output_type": "stream",
     "text": [
      "[[ 0.43  -0.2    1.2    1.555]]\n"
     ]
    }
   ],
   "source": [
    "B = np.array(\n",
    "[[0, 0, 1, 2],\n",
    "[0, 1, 0, 1],\n",
    "[1, 0, 1, 0.5]]\n",
    ")\n",
    "\n",
    "K = np.array([0.77, -0.20, 0.43]).reshape(1, -1)\n",
    "\n",
    "R = K@B\n",
    "print(R)"
   ]
  },
  {
   "cell_type": "markdown",
   "metadata": {},
   "source": [
    "Now we want to calculate the reward obtained by moving to each room."
   ]
  },
  {
   "cell_type": "code",
   "execution_count": 65,
   "metadata": {},
   "outputs": [
    {
     "name": "stdout",
     "output_type": "stream",
     "text": [
      "[[ 0.53  -0.1    1.3    1.655]]\n"
     ]
    }
   ],
   "source": [
    "R_move = 0.1 + R\n",
    "print(R_move)"
   ]
  },
  {
   "cell_type": "markdown",
   "metadata": {},
   "source": [
    "In reinforcement learning settings the rewards as above provide a summary of the environment.  In order to choose which room to move to we would first like to construct a categorical distribution over the rooms using the softmax.<br>\n",
    "\n",
    "Let $x = [x_1, x_2, \\dots, x_n]$ then\n",
    "$$\n",
    "\\text{softmax}(x)_i = \\frac{e^{x_i}}{\\sum_j e^{z_j}}\n",
    "$$"
   ]
  },
  {
   "cell_type": "code",
   "execution_count": 74,
   "metadata": {},
   "outputs": [
    {
     "name": "stdout",
     "output_type": "stream",
     "text": [
      "[0.14765433 0.07863948 0.31889884 0.45480735]\n"
     ]
    }
   ],
   "source": [
    "def softmax(x):\n",
    "    return np.exp(x)/np.sum(np.exp(x), axis = 1)\n",
    "\n",
    "p = softmax(R_move).reshape(max(list(R_move.shape)), )\n",
    "print(p)"
   ]
  },
  {
   "cell_type": "markdown",
   "metadata": {},
   "source": [
    "One method for choosing an action take in RL is to choose the one that maximizes rewards."
   ]
  },
  {
   "cell_type": "code",
   "execution_count": 79,
   "metadata": {},
   "outputs": [
    {
     "name": "stdout",
     "output_type": "stream",
     "text": [
      "3\n",
      "1.6550000000000002\n"
     ]
    }
   ],
   "source": [
    "best_action = np.argmax(p)\n",
    "best_action_reward = R_move[0, best_action]\n",
    "print(best_action)\n",
    "print(best_action_reward)"
   ]
  },
  {
   "cell_type": "markdown",
   "metadata": {},
   "source": [
    "Okay nothing great there.  In RL settings we want our agent to learn from mistakes and explore the environment well.  To do this we will actually sample a random action using the categorical distribution."
   ]
  },
  {
   "cell_type": "code",
   "execution_count": 98,
   "metadata": {},
   "outputs": [
    {
     "name": "stdout",
     "output_type": "stream",
     "text": [
      "2\n",
      "1.3\n"
     ]
    }
   ],
   "source": [
    "random_action = np.random.choice(np.arange(len(p)), p=p)\n",
    "random_action_reward = R_move[0, random_action]\n",
    "print(random_action)\n",
    "print(random_action_reward)"
   ]
  },
  {
   "cell_type": "markdown",
   "metadata": {},
   "source": [
    "**Exercise**:  Change to the weighted softmax and see how the categorical distribution changes.\n",
    "    \n",
    "$$\n",
    "\\text{softmax}(x)_i = \\frac{e^{x_i/\\tau}}{\\sum_j e^{z_j/\\tau}}\n",
    "$$    "
   ]
  },
  {
   "cell_type": "markdown",
   "metadata": {},
   "source": [
    "Finally, in Q-learning settings we will have buffers to store our previous actions.  Given a buffer (list) with all our previous actions, remove all occurences of the current action chosen."
   ]
  },
  {
   "cell_type": "code",
   "execution_count": 100,
   "metadata": {},
   "outputs": [
    {
     "name": "stdout",
     "output_type": "stream",
     "text": [
      "[1, 3, 0, 0, 1, 0, 1, 0, 1, 1, 3, 3, 0, 1]\n"
     ]
    }
   ],
   "source": [
    "buffer = [2, 1, 3, 2, 0, 0, 1, 0, 2, 1, 0, 2, 1, 1, 2, 3, 3, 0, 1]\n",
    "\n",
    "new_buffer = [i for i in buffer if not i == random_action]\n",
    "\n",
    "print(new_buffer)"
   ]
  }
 ],
 "metadata": {
  "kernelspec": {
   "display_name": "Python 3",
   "language": "python",
   "name": "python3"
  },
  "language_info": {
   "codemirror_mode": {
    "name": "ipython",
    "version": 3
   },
   "file_extension": ".py",
   "mimetype": "text/x-python",
   "name": "python",
   "nbconvert_exporter": "python",
   "pygments_lexer": "ipython3",
   "version": "3.7.1"
  }
 },
 "nbformat": 4,
 "nbformat_minor": 4
}
