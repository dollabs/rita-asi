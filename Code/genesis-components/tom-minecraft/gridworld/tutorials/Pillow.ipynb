{
 "cells": [
  {
   "cell_type": "code",
   "execution_count": 3,
   "metadata": {},
   "outputs": [],
   "source": [
    "from PIL import Image\n",
    "from os.path import join\n",
    "\n",
    "texture_dir = join('..','texture','60')\n",
    "\n",
    "for angle in range(0, 36):\n",
    "    im = Image.open(join(texture_dir,'player0.gif'))\n",
    "    angle *= 10\n",
    "    im=im.rotate(angle)  #, expand=True\n",
    "    im.save(f'player-{angle}.gif')\n",
    "    im.close()"
   ]
  },
  {
   "cell_type": "code",
   "execution_count": 7,
   "metadata": {},
   "outputs": [
    {
     "name": "stdout",
     "output_type": "stream",
     "text": [
      "225 0 180\n",
      "135 180 90\n",
      "45 90 0\n",
      "315 0 270\n",
      "225 270 180\n",
      "135 180 90\n",
      "45 90 0\n",
      "315 0 270\n",
      "8\n"
     ]
    }
   ],
   "source": [
    "def get_heading(yaw):\n",
    "\n",
    "    if (yaw <= 45 and yaw > -45) or (yaw > 270 + 45) or (yaw < - 270 - 45):\n",
    "        heading = 270\n",
    "    elif (yaw <= 90 + 45 and yaw > 45) or (yaw <= -45 - 180 and yaw > -45 - 270):\n",
    "        heading = 180\n",
    "    elif (yaw <= 180 + 45 and yaw > 90 + 45) or (yaw <= -45 - 90 and yaw > -45 - 180):\n",
    "        heading = 90\n",
    "    else:\n",
    "        heading = 0\n",
    "\n",
    "    yaw = (-yaw+270) % 360\n",
    "    if yaw <= 45 or yaw > 270 + 45: head = 0\n",
    "    elif yaw <= 45 + 90: head = 90\n",
    "    elif yaw <= 45 + 180: head = 180\n",
    "    elif yaw <= 45 + 270: head = 270\n",
    "    \n",
    "    if heading != head:\n",
    "        print(yaw, heading, head)\n",
    "    return heading == head\n"
   ]
  },
  {
   "cell_type": "code",
   "execution_count": null,
   "metadata": {},
   "outputs": [],
   "source": []
  }
 ],
 "metadata": {
  "kernelspec": {
   "display_name": "Python 3",
   "language": "python",
   "name": "python3"
  },
  "language_info": {
   "codemirror_mode": {
    "name": "ipython",
    "version": 3
   },
   "file_extension": ".py",
   "mimetype": "text/x-python",
   "name": "python",
   "nbconvert_exporter": "python",
   "pygments_lexer": "ipython3",
   "version": "3.7.7"
  }
 },
 "nbformat": 4,
 "nbformat_minor": 4
}
