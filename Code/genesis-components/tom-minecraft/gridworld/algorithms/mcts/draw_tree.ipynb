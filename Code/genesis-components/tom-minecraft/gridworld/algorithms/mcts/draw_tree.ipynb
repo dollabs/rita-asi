{
 "cells": [
  {
   "cell_type": "code",
   "execution_count": 75,
   "metadata": {},
   "outputs": [
    {
     "name": "stdout",
     "output_type": "stream",
     "text": [
      "\n"
     ]
    },
    {
     "data": {
      "image/png": "[encoded data removed]",
      "text/plain": [
       "<Figure size 432x288 with 1 Axes>"
      ]
     },
     "metadata": {},
     "output_type": "display_data"
    }
   ],
   "source": [
    "__docformat__ = \"restructuredtext en\"\n",
    "\n",
    "from copy import deepcopy\n",
    "import matplotlib.pyplot as plt\n",
    "import networkx as nx\n",
    "from networkx import DiGraph\n",
    "\n",
    "class PrintDiGraph(DiGraph):\n",
    "\n",
    "    def __init__(self, data=None, name='', file=None, **attr):\n",
    "        DiGraph.__init__(self, data=data, name=name, **attr)\n",
    "        self.write = False\n",
    "        self.labels = {}\n",
    "        self.dist = {}\n",
    "        if file is None:\n",
    "            import sys\n",
    "            self.fh = sys.stdout\n",
    "        else:\n",
    "            self.fh = open(file, 'w')\n",
    "\n",
    "    def add_node(self, n, attr_dict=None, **attr):\n",
    "        DiGraph.add_node(self, n, attr_dict=attr_dict, **attr)\n",
    "        self.labels[n] = n\n",
    "        self.dist[n] = {}\n",
    "        if self.write: self.fh.write(\"Add node: %s\\n\" % n)\n",
    "\n",
    "    def add_nodes_from(self, nodes, **attr):\n",
    "        for n in nodes:\n",
    "            self.add_node(n, **attr)\n",
    "\n",
    "    def remove_node(self, n):\n",
    "        DiGraph.remove_node(self, n)\n",
    "        if self.write: self.fh.write(\"Remove node: %s\\n\" % n)\n",
    "\n",
    "    def remove_nodes_from(self, nodes):\n",
    "        for n in nodes:\n",
    "            self.remove_node(n)\n",
    "\n",
    "    def add_edge(self, u, v, attr_dict=None, **attr):\n",
    "        if v not in self.nodes:\n",
    "            self.add_node(v, **attr)\n",
    "            \n",
    "        self.dist[u][v] = 1\n",
    "        for e in self.edges():\n",
    "            if e[0] == u and e[1] != v:\n",
    "                self.dist[e[1]][v] = 1\n",
    "                \n",
    "        DiGraph.add_edge(self, u, v, attr_dict=attr_dict, **attr)\n",
    "        if self.write: self.fh.write(\"Add edge: %s->%s\\n\" % (u, v))\n",
    "\n",
    "    def add_edges_from(self, ebunch, attr_dict=None, **attr):\n",
    "        for e in ebunch:\n",
    "            u, v = e[0:2]\n",
    "            self.add_edge(u, v, attr_dict=attr_dict, **attr)\n",
    "\n",
    "    def remove_edge(self, u, v):\n",
    "        DiGraph.remove_edge(self, u, v)\n",
    "        if self.write: self.fh.write(\"Remove edge: %s-%s\\n\" % (u, v))\n",
    "\n",
    "    def remove_edges_from(self, ebunch):\n",
    "        for e in ebunch:\n",
    "            u, v = e[0:2]\n",
    "            self.remove_edge(u, v)\n",
    "\n",
    "    def clear(self):\n",
    "        DiGraph.clear(self)\n",
    "        if self.write: self.fh.write(\"Clear graph\\n\")\n",
    "\n",
    "\n",
    "if __name__ == '__main__':\n",
    "    G = PrintDiGraph()\n",
    "    G.add_node('1')\n",
    "    G.add_edge('1', '1-1')\n",
    "    G.add_edge('1', '1-2')\n",
    "    G.add_edge('1-1', '1-1-1')\n",
    "    G.add_edge('1-1', '1-1-2')\n",
    "    G.add_edge('1-1', '1-1-3')\n",
    "    G.add_edge('1-1-1', '1-1-1-1')\n",
    "    G.add_edge('1-1-2', '1-1-2-1')\n",
    "    G.add_edge('1-1-3', '1-1-3-1')\n",
    "    G.add_edge('1-2', '1-2-1')\n",
    "    G.add_edge('1-2', '1-2-2')\n",
    "    G.add_edge('1-2-1', '1-2-1-1')\n",
    "#     print(\"Nodes in G: \", G.nodes(data=True))\n",
    "#     print(\"Edges in G: \", G.edges(data=True))\n",
    "\n",
    "#     G = PrintGraph()\n",
    "#     nx.add_path(G, range(10))\n",
    "#     nx.draw(G)\n",
    "\n",
    "#     G.dist['1-1-3']['1-1-2'] = 1\n",
    "    pos = nx.kamada_kawai_layout(G) #,dist=G.dist\n",
    "    nx.draw_networkx_nodes(G, pos, node_color='#f1c40f', node_size=800, alpha=0.8)\n",
    "    nx.draw_networkx_edges(G, pos, edge_color='#f1c40f', arrowstyle='-|>', arrowsize=20, width=4, alpha=0.8)\n",
    "    nx.draw_networkx_labels(G, pos, labels=G.labels, font_size=12)\n",
    "    plt.show()"
   ]
  },
  {
   "cell_type": "code",
   "execution_count": null,
   "metadata": {},
   "outputs": [],
   "source": []
  }
 ],
 "metadata": {
  "kernelspec": {
   "display_name": "Python 3",
   "language": "python",
   "name": "python3"
  },
  "language_info": {
   "codemirror_mode": {
    "name": "ipython",
    "version": 3
   },
   "file_extension": ".py",
   "mimetype": "text/x-python",
   "name": "python",
   "nbconvert_exporter": "python",
   "pygments_lexer": "ipython3",
   "version": "3.7.1"
  }
 },
 "nbformat": 4,
 "nbformat_minor": 4
}
