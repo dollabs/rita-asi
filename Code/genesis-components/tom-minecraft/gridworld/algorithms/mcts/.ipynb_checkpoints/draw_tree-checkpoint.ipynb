{
 "cells": [
  {
   "cell_type": "code",
   "execution_count": 4,
   "metadata": {},
   "outputs": [
    {
     "name": "stdout",
     "output_type": "stream",
     "text": [
      "Add node: foo\n",
      "Add node: b\n",
      "Add node: a\n",
      "Add node: r\n",
      "Nodes in G:  [('foo', {'attr_dict': None}), ('b', {'attr_dict': None, 'weight': 8}), ('a', {'attr_dict': None, 'weight': 8}), ('r', {'attr_dict': None, 'weight': 8})]\n",
      "Add edge: b-a\n",
      "Edges in G:  [('b', 'a', {'attr_dict': None, 'weight': 10})]\n"
     ]
    },
    {
     "data": {
      "image/png": "[encoded data removed]",
      "text/plain": [
       "<Figure size 432x288 with 1 Axes>"
      ]
     },
     "metadata": {},
     "output_type": "display_data"
    }
   ],
   "source": [
    "__docformat__ = \"restructuredtext en\"\n",
    "\n",
    "from copy import deepcopy\n",
    "import matplotlib.pyplot as plt\n",
    "import networkx as nx\n",
    "from networkx import Graph\n",
    "\n",
    "class PrintGraph(Graph):\n",
    "\n",
    "    def __init__(self, data=None, name='', file=None, **attr):\n",
    "        Graph.__init__(self, data=data, name=name, **attr)\n",
    "        self.labels = {}\n",
    "        if file is None:\n",
    "            import sys\n",
    "            self.fh = sys.stdout\n",
    "        else:\n",
    "            self.fh = open(file, 'w')\n",
    "\n",
    "    def add_node(self, n, attr_dict=None, **attr):\n",
    "        Graph.add_node(self, n, attr_dict=attr_dict, **attr)\n",
    "        self.fh.write(\"Add node: %s\\n\" % n)\n",
    "\n",
    "    def add_nodes_from(self, nodes, **attr):\n",
    "        for n in nodes:\n",
    "            self.add_node(n, **attr)\n",
    "\n",
    "    def remove_node(self, n):\n",
    "        Graph.remove_node(self, n)\n",
    "        self.fh.write(\"Remove node: %s\\n\" % n)\n",
    "\n",
    "    def remove_nodes_from(self, nodes):\n",
    "        for n in nodes:\n",
    "            self.remove_node(n)\n",
    "\n",
    "    def add_edge(self, u, v, attr_dict=None, **attr):\n",
    "        Graph.add_edge(self, u, v, attr_dict=attr_dict, **attr)\n",
    "        self.fh.write(\"Add edge: %s-%s\\n\" % (u, v))\n",
    "\n",
    "    def add_edges_from(self, ebunch, attr_dict=None, **attr):\n",
    "        for e in ebunch:\n",
    "            u, v = e[0:2]\n",
    "            self.add_edge(u, v, attr_dict=attr_dict, **attr)\n",
    "\n",
    "    def remove_edge(self, u, v):\n",
    "        Graph.remove_edge(self, u, v)\n",
    "        self.fh.write(\"Remove edge: %s-%s\\n\" % (u, v))\n",
    "\n",
    "    def remove_edges_from(self, ebunch):\n",
    "        for e in ebunch:\n",
    "            u, v = e[0:2]\n",
    "            self.remove_edge(u, v)\n",
    "\n",
    "    def clear(self):\n",
    "        Graph.clear(self)\n",
    "        self.fh.write(\"Clear graph\\n\")\n",
    "\n",
    "\n",
    "if __name__ == '__main__':\n",
    "    G = PrintGraph()\n",
    "    G.add_node('foo')\n",
    "    G.add_nodes_from('bar', weight=8)\n",
    "    print(\"Nodes in G: \", G.nodes(data=True))\n",
    "    G.add_edge('b', 'a', weight=10)\n",
    "    print(\"Edges in G: \", G.edges(data=True))\n",
    "\n",
    "#     G = PrintGraph()\n",
    "#     nx.add_path(G, range(10))\n",
    "#     nx.add_star(G, range(9, 13))\n",
    "    nx.draw(G)\n",
    "    plt.show()"
   ]
  },
  {
   "cell_type": "code",
   "execution_count": null,
   "metadata": {},
   "outputs": [],
   "source": []
  }
 ],
 "metadata": {
  "kernelspec": {
   "display_name": "Python 3",
   "language": "python",
   "name": "python3"
  },
  "language_info": {
   "codemirror_mode": {
    "name": "ipython",
    "version": 3
   },
   "file_extension": ".py",
   "mimetype": "text/x-python",
   "name": "python",
   "nbconvert_exporter": "python",
   "pygments_lexer": "ipython3",
   "version": "3.7.1"
  }
 },
 "nbformat": 4,
 "nbformat_minor": 4
}
